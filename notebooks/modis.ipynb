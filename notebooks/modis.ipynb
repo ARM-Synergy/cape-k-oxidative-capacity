{
 "cells": [
  {
   "cell_type": "code",
   "execution_count": 113,
   "metadata": {},
   "outputs": [],
   "source": [
    "import numpy as np\n",
    "import xarray as xr\n",
    "import matplotlib.pyplot as plt\n",
    "from matplotlib.colors import LogNorm  # Import LogNorm for logarithmic scaling\n",
    "import pandas as pd\n",
    "# from mpl_toolkits.basemap import Basemap\n",
    "import warnings\n",
    "warnings.filterwarnings('ignore')"
   ]
  },
  {
   "cell_type": "code",
   "execution_count": 6,
   "metadata": {},
   "outputs": [
    {
     "name": "stderr",
     "output_type": "stream",
     "text": [
      "<>:16: SyntaxWarning: invalid escape sequence '\\m'\n",
      "<>:16: SyntaxWarning: invalid escape sequence '\\m'\n",
      "/var/folders/fr/vt6pjv5j2xd3yldcz7dyxj2c0000gn/T/ipykernel_19409/2087484628.py:16: SyntaxWarning: invalid escape sequence '\\m'\n",
      "  cbar.set_label('MODIS Chl a ($\\mu g/L$)')\n"
     ]
    }
   ],
   "source": [
    "#MODIS Functions\n",
    "\n",
    "def plot_ship_tracks_chla_with_backtraj(dataframes, lon_col, lat_col, colors, vmax_value, labels, heatmap_df, trajectory_df, title=\"Track Plot\", xlim=None, ylim=None):\n",
    "    fig, ax = plt.subplots(figsize=(12, 8), subplot_kw={'projection': ccrs.PlateCarree()}, facecolor='white')\n",
    "\n",
    "    # Create a meshgrid for the heatmap\n",
    "    lon = heatmap_df.columns.values.astype(float)\n",
    "    lat = heatmap_df.index.values.astype(float)\n",
    "    Lon, Lat = np.meshgrid(lon, lat)\n",
    "    heatmap_values = heatmap_df.values\n",
    "\n",
    "    # Plot the heatmap with log scale normalization\n",
    "    heatmap = ax.pcolormesh(Lon, Lat, heatmap_values, shading='auto', cmap='viridis', \n",
    "                            norm=LogNorm(vmin=1, vmax=vmax_value), transform=ccrs.PlateCarree())\n",
    "    cbar = fig.colorbar(heatmap, ax=ax, orientation='vertical', pad=0.05, aspect=50)\n",
    "    cbar.set_label('MODIS Chl a ($\\mu g/L$)')\n",
    "\n",
    "    # Customize the color bar ticks\n",
    "    cbar.ax.yaxis.set_major_formatter(ticker.FuncFormatter(lambda x, _: f'{float(x):.2f}'))\n",
    "    \n",
    "    # Plot the ship tracks\n",
    "    for df, color, label in zip(dataframes, colors, labels):\n",
    "        latitudes = df[lat_col]\n",
    "        longitudes = df[lon_col]\n",
    "        mask = latitudes > -62\n",
    "        ax.scatter(longitudes[mask], latitudes[mask], s=5, color=color, label=label,  transform=ccrs.PlateCarree())\n",
    "    \n",
    "    # Colour ice edge scatter differently\n",
    "    # ax.scatter(longitudes[~mask], latitudes[~mask], s=10, color='grey', label='MISO Antarctic Ice-Edge Leg (N/A)', transform=ccrs.PlateCarree())\n",
    "    \n",
    "    # Plot the trajectory data\n",
    "    ax.plot(trajectory_df['lon'], trajectory_df['lat'], color='black', label='24-hr backtraj', transform=ccrs.PlateCarree(), linewidth=0.5, alpha=0.7)\n",
    "\n",
    "    # Add gridlines and labels\n",
    "    ax.gridlines(draw_labels=True)\n",
    "    ax.coastlines()\n",
    "\n",
    "    # Set x and y limits\n",
    "    if xlim is not None:\n",
    "        ax.set_xlim(xlim)\n",
    "    if ylim is not None:\n",
    "        ax.set_ylim(ylim)\n",
    "\n",
    "    # Set the title and legend\n",
    "    ax.set_title(title, fontsize=16)\n",
    "    ax.legend()\n",
    "\n",
    "    plt.show()\n",
    "\n",
    "def preprocess_chlorophyll_data(file_path, lon_min=100, lon_max=155, lat_min=-63, lat_max=-30):\n",
    "    \"\"\"\n",
    "    Preprocesses the chlorophyll data from a CSV file. Note that data from MODIS is in mg/m3 which is equal to ug/L which is what is reported.\n",
    "\n",
    "    Parameters:\n",
    "    file_path (str): The path to the CSV file.\n",
    "    lon_min (float): Minimum longitude value to keep.\n",
    "    lon_max (float): Maximum longitude value to keep.\n",
    "    lat_min (float): Minimum latitude value to keep.\n",
    "    lat_max (float): Maximum latitude value to keep.\n",
    "    replace_value (int or float): The value to replace with NaN.\n",
    "    conversion_factor (float): Factor to convert the data values.\n",
    "\n",
    "    Returns:\n",
    "    pd.DataFrame: The preprocessed chlorophyll data.\n",
    "    \"\"\"\n",
    "    # Read the CSV file\n",
    "    chla_data = pd.read_csv(file_path)\n",
    "    \n",
    "    # Set the 'lat/lon' column as the index\n",
    "    chla_data = chla_data.set_index('lat/lon')\n",
    "    \n",
    "    # Replace specific value with NaN\n",
    "    chla_data = chla_data.replace(99999, np.nan)\n",
    "    \n",
    "    # Ensure columns are floats\n",
    "    chla_data.columns = [float(x) for x in chla_data.columns]\n",
    "    \n",
    "    # Keep only the columns within the specified longitude range\n",
    "    columns_to_keep = [x for x in chla_data.columns if lon_min < x < lon_max]\n",
    "    chla_data = chla_data[columns_to_keep]\n",
    "    \n",
    "    # Keep only the rows within the specified latitude range\n",
    "    chla_data = chla_data[(chla_data.index > lat_min) & (chla_data.index < lat_max)]\n",
    "    \n",
    "    return chla_data"
   ]
  },
  {
   "cell_type": "code",
   "execution_count": 101,
   "metadata": {},
   "outputs": [],
   "source": [
    "# files downloaded from https://neo.gsfc.nasa.gov/view.php?datasetId=MY1DMM_CHLORA&date=2024-11-24 as CSV files for excel (0.1deg resolution)\n",
    "\n",
    "chla = preprocess_chlorophyll_data('/Users/alanahc/Documents/Conferences/Cape-K/MY1DMM_CHLORA_2024-11-01_rgb_3600x1800.SS.CSV', lon_min=100, lon_max=155, lat_min=-63, lat_max=-30)"
   ]
  },
  {
   "cell_type": "code",
   "execution_count": 116,
   "metadata": {},
   "outputs": [
    {
     "data": {
      "image/png": "[encoded data removed]",
      "text/plain": [
       "<Figure size 640x480 with 2 Axes>"
      ]
     },
     "metadata": {},
     "output_type": "display_data"
    }
   ],
   "source": [
    "lon = np.array(chla.columns.values)\n",
    "lat = np.array(chla.index.values)\n",
    "lat_grid,lon_grid = np.meshgrid(lon, lat)\n",
    "chla_values = chla.iloc[0:, 0:].values\n",
    "\n",
    "cf = plt.pcolormesh(lat_grid, lon_grid, chla_values,cmap='viridis',norm=LogNorm())\n",
    "plt.colorbar(cf,label='LogNorm MODIS Chl a ($\\mu g/L$)')\n",
    "plt.ylim(-42, -40)\n",
    "plt.xlim(144, 146)\n",
    "plt.show()"
   ]
  },
  {
   "cell_type": "code",
   "execution_count": null,
   "metadata": {},
   "outputs": [],
   "source": []
  }
 ],
 "metadata": {
  "kernelspec": {
   "display_name": "base",
   "language": "python",
   "name": "python3"
  },
  "language_info": {
   "codemirror_mode": {
    "name": "ipython",
    "version": 3
   },
   "file_extension": ".py",
   "mimetype": "text/x-python",
   "name": "python",
   "nbconvert_exporter": "python",
   "pygments_lexer": "ipython3",
   "version": "3.12.2"
  }
 },
 "nbformat": 4,
 "nbformat_minor": 2
}
