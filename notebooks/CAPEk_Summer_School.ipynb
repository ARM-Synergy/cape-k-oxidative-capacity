{
 "cells": [
  {
   "cell_type": "code",
   "execution_count": 1,
   "metadata": {},
   "outputs": [
    {
     "name": "stderr",
     "output_type": "stream",
     "text": [
      "c:\\Users\\myn003\\Anaconda3\\lib\\site-packages\\pandas\\core\\computation\\expressions.py:21: UserWarning: Pandas requires version '2.8.4' or newer of 'numexpr' (version '2.8.1' currently installed).\n",
      "  from pandas.core.computation.check import NUMEXPR_INSTALLED\n",
      "c:\\Users\\myn003\\Anaconda3\\lib\\site-packages\\pandas\\core\\arrays\\masked.py:60: UserWarning: Pandas requires version '1.3.6' or newer of 'bottleneck' (version '1.3.4' currently installed).\n",
      "  from pandas.core import (\n"
     ]
    },
    {
     "name": "stdout",
     "output_type": "stream",
     "text": [
      "['BoundaryNorm', 'Data', 'DateFormatter', 'FontProperties', 'FuncFormatter', 'In', 'LinearSegmentedColormap', 'LogNorm', 'MAXYEAR', 'MINYEAR', 'Model', 'Normalize', 'ODR', 'Out', 'ScalarMappable', 'UTC', 'WindroseAxes', '_', '__', '___', '__builtin__', '__builtins__', '__doc__', '__loader__', '__name__', '__package__', '__spec__', '__vsc_ipynb_file__', '_dh', '_i', '_i1', '_ih', '_ii', '_iii', '_oh', 'analyze_bdl_columns', 'calculate_detection_limits', 'calculate_fraction_above_mdl', 'calculate_p95_mdl_ratio', 'calculate_sensitivity', 'calculate_sensitivity_statistics', 'calculate_statistics', 'ccrs', 'cm', 'concatenate_and_sum_by_mass', 'concatenate_by_mass', 'convert_to_hobart_time', 'create_and_save_aerosol_interactive_plot', 'create_and_save_aerosol_interactive_subplots', 'create_and_save_meso_plot', 'create_and_save_voc_interactive_plot', 'date', 'datetime', 'delayed_correlation', 'exit', 'export_dataframe_to_monthly_csv', 'extract_and_average_time_periods', 'filter_baseline_data', 'filter_by_detection_limits', 'filter_padding', 'filter_padding_block', 'filter_padding_meso', 'flag_by_period', 'flag_detection_limits', 'get_correlation_matrix', 'get_ipython', 'glob', 'go', 'gridspec', 'h5_viewer', 'h5_viewer_charon', 'h5_viewer_mass_spec', 'h5py', 'hello_world', 'is_within_periods', 'limit_date_range', 'linregress', 'make_subplots', 'mask_cals_compounds', 'mask_chem_compounds', 'mask_guv_compounds', 'mask_marine_compounds', 'mask_primary_compounds', 'mask_primary_compounds_no_time_string', 'math', 'mdates', 'mesocosm_sequence_mapping', 'np', 'os', 'parser', 'pd', 'pdplt', 'pearsonr', 'perform_background_correction', 'plot_diurnal_boxplots', 'plot_diurnal_cycle', 'plot_diurnal_cycles_subplots', 'plot_multi_ship_tracks', 'plot_multipoint_cals', 'plot_regions_track', 'plot_ship_track', 'plot_ship_tracks_chla_map', 'plot_ship_tracks_chla_track', 'plot_ship_tracks_chla_with_backtraj', 'plot_subplots', 'plot_subplots_lat_vs_voc', 'plt', 'preprocess_cals_data', 'preprocess_chlorophyll_data', 'preprocess_longitude', 'px', 'pytz', 'quit', 'r2_score', 'random', 're', 'read_and_concat_csv_dataframes', 'read_and_concat_h5_dataframes', 'read_and_concat_h5_dataframes_no_start_end_times', 'read_and_concat_h5_dataframes_old', 'read_and_concat_met_dat_dataframes', 'read_concat_and_filter_csv_dataframes', 'relativedelta', 'remove_below_detection_limits', 'remove_calibrations_and_negative_values', 'remove_data_within_dates', 'reorder_and_rename_columns', 'resampler', 'scatter_with_line_of_best_fit', 'scatter_with_line_of_best_fit_colour_by_campaign', 'scatter_with_line_of_best_fit_colour_latitude', 'scatter_with_line_of_best_fit_colour_latitude_2', 'scatter_with_line_of_best_fit_colour_month', 'scatter_with_line_of_best_fit_colour_parameter', 'scatter_with_line_of_best_fit_multiple_dfs', 'scatter_with_line_of_best_fit_subplots', 'scatter_with_line_of_best_fit_subplots_lat', 'scatter_with_line_of_best_fit_subplots_month', 'scatter_with_line_of_best_fit_two_dfs', 'scipy', 'sklearn', 'sns', 'sp', 'stats', 'sys', 'threshold_filter', 'ticker', 'time', 'timedelta', 'timezone', 'tzinfo', 'update_measurement_by_period', 'webbrowser']\n"
     ]
    }
   ],
   "source": [
    "# Adding util folder to sys path\n",
    "import sys\n",
    "sys.path.append(r\"c:\\Users\\myn003\\OneDrive - CSIRO\\PhD\\Scripts\")\n",
    "\n",
    "# Import ptrms_util with a range of functions used for filtering/post-processing data\n",
    "from helper_scripts.ptrms_util import *\n",
    "from helper_scripts.plotting_util import *\n",
    "print(dir())"
   ]
  },
  {
   "cell_type": "code",
   "execution_count": null,
   "metadata": {},
   "outputs": [],
   "source": []
  }
 ],
 "metadata": {
  "kernelspec": {
   "display_name": "base",
   "language": "python",
   "name": "python3"
  },
  "language_info": {
   "codemirror_mode": {
    "name": "ipython",
    "version": 3
   },
   "file_extension": ".py",
   "mimetype": "text/x-python",
   "name": "python",
   "nbconvert_exporter": "python",
   "pygments_lexer": "ipython3",
   "version": "3.9.12"
  }
 },
 "nbformat": 4,
 "nbformat_minor": 2
}
